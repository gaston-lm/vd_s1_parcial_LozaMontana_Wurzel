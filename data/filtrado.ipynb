{
 "cells": [
  {
   "cell_type": "code",
   "execution_count": 1,
   "metadata": {},
   "outputs": [],
   "source": [
    "import pandas as pd\n",
    "df = pd.read_csv('sistema-unico-de-atencion-ciudadana-2021.csv', delimiter=';',low_memory=False)\n",
    "df['prestacion'] = df['prestacion'].str.upper()"
   ]
  },
  {
   "cell_type": "code",
   "execution_count": 2,
   "metadata": {},
   "outputs": [
    {
     "data": {
      "text/plain": [
       "(23280, 20)"
      ]
     },
     "execution_count": 2,
     "metadata": {},
     "output_type": "execute_result"
    }
   ],
   "source": [
    "prestaciones_residuos = [\n",
    "    'LIMPIEZA DE CAMPANA Y/O RESIDUOS DISEMINADOS ALREDEDOR', \n",
    "    'INSTALACIÓN DE CAMPANA VERDE', \n",
    "    'REPARACIÓN DE CAMPANA VERDE', \n",
    "    'VACIADO DE CAMPANA VERDES', \n",
    "    'RESIDUOS ACUMULADOS O DISEMINADOS FUERA DE PUNTO VERDE', \n",
    "    'RECUPERADOR URBANO ACOPIANDO RESIDUOS EN ZONA NO PREVISTA', \n",
    "    'ASENTAMIENTO DE RECUPERADORES URBANOS EN ESPACIO PÚBLICO', \n",
    "    'USO INDEBIDO DEL AGUA PARA LIMPIAR LAS VEREDAS', \n",
    "    'USO INDEBIDO DEL PLÁSTICO (BOLSAS NO REUTILIZABLES Y SORBETES)', \n",
    "    'IRREGULARIDADES EN LA SEPARACIÓN DE RESIDUOS EN ORIGEN', \n",
    "    'RECOLECCIÓN DE RESIDUOS SECOS EN GRAN GENERADOR', \n",
    "    'RECOLECCIÓN DE RESIDUOS FUERA DEL CONTENEDOR', \n",
    "    'RETIRO DE RESIDUOS VOLUMINOSOS (MUEBLES Y ELECTRODOMÉSTICOS)', \n",
    "    'IRREGULARIDADES EN LA MANIPULACIÓN DE RESIDUOS PELIGROSOS', \n",
    "    'IRREGULARIDADES EN LA DISPOSICIÓN DE RESIDUOS DE ESTABLECIMIENTOS', \n",
    "    'PERSONAL DE EMPRESA DE RECOLECCIÓN CON CONDUCTAS INDEBIDAS'] \n",
    "prestaciones_accecibilidad = [\n",
    "    'CONSTRUCCIÓN DE RAMPA DE ACCESIBILIDAD',\n",
    "    'REPARACIÓN DE RAMPA DE ACCESIBILIDAD',\n",
    "    'FALTA DE RAMPAS DE ACCESO PARA PERSONAS CON DISCAPACIDAD MOTRIZ EN ESTABLECIMIENTOS NO COMERCIALES',\n",
    "    'FALTA DE RAMPAS DE ACCESO PARA PERSONAS CON DISCAPACIDAD MOTRIZ EN LOCAL COMERCIAL',\n",
    "    'IRREGULARIDADES CON RESERVAS DE ESPACIOS PARA ESTACIONAMIENTO DE VEHÍCULOS DE PERSONAS CON DISCAPACIDAD',\n",
    "    'IRREGULARIDADES EN EL USO DEL CERTIFICADO DE DISCAPACIDAD PARA ESTACIONAMIENTO',\n",
    "    'FALTA DE RAMPAS DE ACCESO PARA PERSONAS CON DISCAPACIDAD MOTRIZ',\n",
    "    'CONSTRUCCIÓN / REPARACIÓN DE DÁRSENA PARA ASCENSO/DESCENSO DE COLECTIVOS',\n",
    "    'REPARACIÓN DE VEREDA',\n",
    "    'OBSTRUCCIÓN DE CALLE O VEREDA POR ELEMENTOS FIJOS O MÓVILES'\n",
    "]\n",
    "\n",
    "residuos = df[df['prestacion'].isin(prestaciones_accecibilidad)]\n",
    "residuos.shape"
   ]
  },
  {
   "cell_type": "code",
   "execution_count": null,
   "metadata": {},
   "outputs": [],
   "source": [
    "# formateo de fechas y horas\n",
    "def date_transformation(df):\n",
    "    df['mes'] = df['periodo'].astype(str)\n",
    "    df['mes'] = df['mes'].str[-2:]\n",
    "\n",
    "    dfs_por_mes = [df[df['mes'] == mes] for mes in df['mes'].unique()]\n",
    "    \n",
    "    for i, mes_df in enumerate(dfs_por_mes):\n",
    "        if mes_df['mes'].iloc[0] in ['01', '02', '03', '04', '05']:\n",
    "            dfs_por_mes[i]['fecha_ingros_stan'] = pd.to_datetime(mes_df['fecha_ingreso'], dayfirst=True)\n",
    "        else:\n",
    "            dfs_por_mes[i]['fecha_ingros_stan'] = pd.to_datetime(mes_df['fecha_ingreso'], dayfirst=False)\n",
    "\n",
    "    df = pd.concat(dfs_por_mes)\n",
    "\n",
    "    return df\n",
    "\n",
    "residuos = date_transformation(residuos)\n",
    "\n",
    "residuos['fecha_ingreso'] = residuos['fecha_ingros_stan']\n",
    "residuos['hora_ingreso'] = pd.to_datetime(residuos['hora_ingreso']).dt.time.astype(str)\n",
    "\n",
    "# residuos['fecha_hora_ingreso'] = pd.to_datetime(residuos['fecha_ingreso'] + ' ' + residuos['hora_ingreso'])\n",
    "residuos['fecha_hora_ingreso'] = residuos['fecha_ingreso'] + pd.to_timedelta(residuos['hora_ingreso'].astype(str))\n",
    "\n",
    "residuos.shape"
   ]
  },
  {
   "cell_type": "code",
   "execution_count": null,
   "metadata": {},
   "outputs": [],
   "source": [
    "# formateo de fechas y horas cierre\n",
    "\n",
    "def date_transformation_2(df):\n",
    "    df['mes'] = df['periodo'].astype(str)\n",
    "    df['mes'] = df['mes'].str[-2:]\n",
    "\n",
    "    dfs_por_mes = [df[df['mes'] == mes] for mes in df['mes'].unique()]\n",
    "    \n",
    "    for i, mes_df in enumerate(dfs_por_mes):\n",
    "        if mes_df['mes'].iloc[0] in ['01', '02', '03', '04', '05']:\n",
    "            dfs_por_mes[i]['fecha_cierre_stan'] = pd.to_datetime(mes_df['fecha_cierre'], dayfirst=True)\n",
    "        else:\n",
    "            dfs_por_mes[i]['fecha_cierre_stan'] = pd.to_datetime(mes_df['fecha_cierre'], dayfirst=False)\n",
    "\n",
    "    df = pd.concat(dfs_por_mes)\n",
    "\n",
    "    return df\n",
    "\n",
    "residuos['fecha_cierre'] = residuos['fecha_cierre_contacto'].astype(str).str[:10]\n",
    "residuos['hora_cierre'] = residuos['fecha_cierre_contacto'].astype(str).str[11:]\n",
    "\n",
    "residuos = date_transformation_2(residuos)\n",
    "\n",
    "residuos['fecha_cierre'] = residuos['fecha_cierre_stan']\n",
    "residuos['hora_cierre'] = pd.to_datetime(residuos['hora_cierre']).dt.time.astype(str)\n",
    "\n",
    "residuos['fecha_hora_cierre'] = residuos['fecha_cierre'] + pd.to_timedelta(residuos['hora_cierre'].astype(str))"
   ]
  },
  {
   "cell_type": "code",
   "execution_count": 5,
   "metadata": {},
   "outputs": [
    {
     "data": {
      "text/plain": [
       "(23280, 17)"
      ]
     },
     "execution_count": 5,
     "metadata": {},
     "output_type": "execute_result"
    }
   ],
   "source": [
    "residuos['domicilio_calle'] = residuos['domiclio_calle'].combine_first(residuos['domicilio_calle'])\n",
    "\n",
    "# sacar periodo, fecha_ingreso, hora_ingreso, fecha_cierre_contacto, domiclio_calle, mes, fecha_ingreso_stan, fecha_cierre, hora_cierre, fecha_cierre_stan\n",
    "cols_to_drop = ['fecha_ingreso', 'hora_ingreso', 'fecha_cierre_contacto', 'domiclio_calle', 'mes', 'fecha_ingros_stan', 'fecha_cierre', 'hora_cierre', 'fecha_cierre_stan']\n",
    "residuos = residuos.drop(cols_to_drop, axis=1)\n",
    "\n",
    "residuos = residuos[['contacto', 'periodo','categoria', 'subcategoria', 'prestacion', 'tipo_prestacion', 'fecha_hora_ingreso', 'domicilio_comuna', 'domicilio_calle', 'domicilio_altura', 'domicilio_esquina_proxima', 'lat', 'lon', 'canal', 'genero', 'estado_del_contacto', 'fecha_hora_cierre']]\n",
    "residuos.shape"
   ]
  },
  {
   "cell_type": "code",
   "execution_count": 7,
   "metadata": {},
   "outputs": [],
   "source": [
    "residuos['domicilio_comuna'].fillna(0, inplace=True) # comuna == 0 --> NaN\n",
    "residuos['domicilio_comuna'] = residuos['domicilio_comuna'].astype(int)\n",
    "residuos['domicilio_altura'].fillna(0, inplace=True) # altura == 0 --> NaN\n",
    "\n",
    "residuos['domicilio_altura'] = residuos['domicilio_altura'].astype(int)\n",
    "residuos['domicilio_calle'] = residuos['domicilio_calle'].str.replace('\"', '')"
   ]
  },
  {
   "cell_type": "code",
   "execution_count": 8,
   "metadata": {},
   "outputs": [],
   "source": [
    "residuos.to_csv('dataset2_accesibilidad.csv', index=False)"
   ]
  }
 ],
 "metadata": {
  "kernelspec": {
   "display_name": "vd",
   "language": "python",
   "name": "python3"
  },
  "language_info": {
   "codemirror_mode": {
    "name": "ipython",
    "version": 3
   },
   "file_extension": ".py",
   "mimetype": "text/x-python",
   "name": "python",
   "nbconvert_exporter": "python",
   "pygments_lexer": "ipython3",
   "version": "3.8.16"
  },
  "orig_nbformat": 4
 },
 "nbformat": 4,
 "nbformat_minor": 2
}
